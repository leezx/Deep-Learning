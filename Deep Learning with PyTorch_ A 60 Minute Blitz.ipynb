{
 "cells": [
  {
   "cell_type": "markdown",
   "id": "d39463d8-98f2-467d-bcee-6f38be24ccbb",
   "metadata": {},
   "source": [
    "# learning objectives [2025-03-04]\n",
    "- Deep Learning with PyTorch: A 60 Minute Blitz\n",
    "- Learning duration: 60 mins"
   ]
  },
  {
   "cell_type": "markdown",
   "id": "72560030-ced6-4538-91c8-d07da591a6f6",
   "metadata": {},
   "source": [
    "## intuitive understanding"
   ]
  },
  {
   "cell_type": "markdown",
   "id": "3f2092ab-2545-4ce1-9e34-7b944e938f81",
   "metadata": {},
   "source": [
    "深度学习里为什么要求导\n",
    "- 我可以构建任何一个函数F，这个F可以是任何结构，包含了变量和参数\n",
    "- 我有可训练的数据，也有label，就可以“训练”来更新参数\n",
    "- 所以，我必须构建Loss Function，来计算偏差，最终我的目的变成了数学上的求Loss Function的最小值\n",
    "- 一个参数的情况下，Loss Function就是这个参数的函数\n",
    "- 梯度下降是找最小值的经典算法，随机给一个点，我可以求得这个点的导数，称为梯度，然后设置一个步长，我就可以向下走一步，一直迭代下去，我就可以找到最小值\n",
    "- 所以，求导的目的就是，随时求得这个参数点下的当前梯度，从而进行跟新\n",
    "\n",
    "核心概念：\n",
    "1. 函数，变量，参数\n",
    "2. 损失函数\n",
    "3. 最小化损失函数，梯度下降算法\n",
    "4. 求导\n",
    "\n",
    "两个概念：\n",
    "1. 前向传播（Forward Pass），用于计算预测值\n",
    "2. 反向传播（Backward Pass），用于计算损失函数的参数的导数\n",
    "\n",
    "loss.backward() 的作用\n",
    "\n",
    "计算梯度\n",
    "- loss.backward() 触发 反向传播，即从损失函数 loss 开始，自动计算所有 需要梯度的张量 的梯度。\n",
    "- 它通过 链式法则（Chain Rule）逐层计算每个参数的梯度，反向传播到模型的每一层（从输出层到输入层）。"
   ]
  },
  {
   "cell_type": "markdown",
   "id": "7c86d493-c5bc-47c8-9b5e-347f61d217a3",
   "metadata": {},
   "source": [
    "# Tensors"
   ]
  },
  {
   "cell_type": "code",
   "execution_count": 12,
   "id": "3b1b6f25-0836-4a0c-813f-f852e846ec0f",
   "metadata": {},
   "outputs": [],
   "source": [
    "import torch\n",
    "import numpy as np"
   ]
  },
  {
   "cell_type": "code",
   "execution_count": 14,
   "id": "33b5145a-ca8f-48fc-a512-7e79fe2aa26f",
   "metadata": {},
   "outputs": [
    {
     "data": {
      "text/plain": [
       "tensor([[1, 2],\n",
       "        [3, 4]])"
      ]
     },
     "execution_count": 14,
     "metadata": {},
     "output_type": "execute_result"
    }
   ],
   "source": [
    "# create from normal data\n",
    "data = [[1,2], [3,4]]\n",
    "x_data = torch.tensor(data)\n",
    "x_data"
   ]
  },
  {
   "cell_type": "code",
   "execution_count": 15,
   "id": "24fc7a32-05c5-4021-93f4-e354e3702109",
   "metadata": {},
   "outputs": [
    {
     "data": {
      "text/plain": [
       "tensor([[[1, 2],\n",
       "         [3, 4]],\n",
       "\n",
       "        [[1, 2],\n",
       "         [3, 4]]])"
      ]
     },
     "execution_count": 15,
     "metadata": {},
     "output_type": "execute_result"
    }
   ],
   "source": [
    "data = [[[1,2], [3,4]],[[1,2], [3,4]]]\n",
    "x_data = torch.tensor(data)\n",
    "x_data"
   ]
  },
  {
   "cell_type": "code",
   "execution_count": 16,
   "id": "7642f81b-92b0-4d0d-9347-920ee90156ce",
   "metadata": {},
   "outputs": [
    {
     "data": {
      "text/plain": [
       "tensor([[[[1, 2],\n",
       "          [3, 4]],\n",
       "\n",
       "         [[1, 2],\n",
       "          [3, 4]]],\n",
       "\n",
       "\n",
       "        [[[1, 2],\n",
       "          [3, 4]],\n",
       "\n",
       "         [[1, 2],\n",
       "          [3, 4]]]])"
      ]
     },
     "execution_count": 16,
     "metadata": {},
     "output_type": "execute_result"
    }
   ],
   "source": [
    "data = [[[[1,2], [3,4]],[[1,2], [3,4]]],[[[1,2], [3,4]],[[1,2], [3,4]]]]\n",
    "x_data = torch.tensor(data)\n",
    "x_data"
   ]
  },
  {
   "cell_type": "code",
   "execution_count": 17,
   "id": "ade31055-be75-476f-ab93-a77e1c0f566c",
   "metadata": {},
   "outputs": [
    {
     "data": {
      "text/plain": [
       "tensor([[[[1, 2],\n",
       "          [3, 4]],\n",
       "\n",
       "         [[1, 2],\n",
       "          [3, 4]]],\n",
       "\n",
       "\n",
       "        [[[1, 2],\n",
       "          [3, 4]],\n",
       "\n",
       "         [[1, 2],\n",
       "          [3, 4]]]])"
      ]
     },
     "execution_count": 17,
     "metadata": {},
     "output_type": "execute_result"
    }
   ],
   "source": [
    "# from numpy data\n",
    "np_array = np.array(data)\n",
    "x_np = torch.from_numpy(np_array)\n",
    "x_np"
   ]
  },
  {
   "cell_type": "code",
   "execution_count": 18,
   "id": "6a8853c9-74ea-4fc3-8878-8ff8db1b04d1",
   "metadata": {},
   "outputs": [
    {
     "name": "stdout",
     "output_type": "stream",
     "text": [
      "Ones Tensor: \n",
      " tensor([[[[1, 1],\n",
      "          [1, 1]],\n",
      "\n",
      "         [[1, 1],\n",
      "          [1, 1]]],\n",
      "\n",
      "\n",
      "        [[[1, 1],\n",
      "          [1, 1]],\n",
      "\n",
      "         [[1, 1],\n",
      "          [1, 1]]]]) \n",
      "\n"
     ]
    }
   ],
   "source": [
    "# torch.ones_like 是 PyTorch 中的一个函数，它用于创建一个 形状和数据类型（dtype） 与给定张量相同，但所有元素都为 1 的新张量。\n",
    "x_ones = torch.ones_like(x_data) # retains the properties of x_data\n",
    "print(f\"Ones Tensor: \\n {x_ones} \\n\")"
   ]
  },
  {
   "cell_type": "code",
   "execution_count": 22,
   "id": "b752b49f-58fe-4ae7-82f7-6c418a187639",
   "metadata": {},
   "outputs": [
    {
     "name": "stdout",
     "output_type": "stream",
     "text": [
      "Random Tensor: \n",
      " tensor([[[[0.9385, 0.3447],\n",
      "          [0.1611, 0.0947]],\n",
      "\n",
      "         [[0.7944, 0.0752],\n",
      "          [0.2817, 0.1660]]],\n",
      "\n",
      "\n",
      "        [[[0.3384, 0.7241],\n",
      "          [0.8970, 0.2798]],\n",
      "\n",
      "         [[0.0273, 0.4692],\n",
      "          [0.6152, 0.3267]]]], dtype=torch.float16) \n",
      "\n"
     ]
    }
   ],
   "source": [
    "x_rand = torch.rand_like(x_data, dtype=torch.float16) # overrides the datatype of x_data\n",
    "print(f\"Random Tensor: \\n {x_rand} \\n\")"
   ]
  },
  {
   "cell_type": "code",
   "execution_count": 7,
   "id": "ccdc555a-bc88-44d3-ad8b-c510d7e0bb61",
   "metadata": {},
   "outputs": [],
   "source": []
  },
  {
   "cell_type": "code",
   "execution_count": 25,
   "id": "2f6ed1fa-cbf0-4c57-8a06-2cf00d709f40",
   "metadata": {},
   "outputs": [
    {
     "name": "stdout",
     "output_type": "stream",
     "text": [
      "Random Tensor: \n",
      " tensor([[0.5998, 0.6597, 0.5725],\n",
      "        [0.7333, 0.7309, 0.1198]]) \n",
      "\n",
      "Ones Tensor: \n",
      " tensor([[1., 1., 1.],\n",
      "        [1., 1., 1.]]) \n",
      "\n",
      "Zeros Tensor: \n",
      " tensor([[0., 0., 0.],\n",
      "        [0., 0., 0.]])\n"
     ]
    }
   ],
   "source": [
    "shape = (2,3,)\n",
    "rand_tensor = torch.rand(shape)\n",
    "ones_tensor = torch.ones(shape)\n",
    "zeros_tensor = torch.zeros(shape)\n",
    "\n",
    "print(f\"Random Tensor: \\n {rand_tensor} \\n\")\n",
    "print(f\"Ones Tensor: \\n {ones_tensor} \\n\")\n",
    "print(f\"Zeros Tensor: \\n {zeros_tensor}\")"
   ]
  },
  {
   "cell_type": "code",
   "execution_count": 26,
   "id": "9a3a83b2-1c4c-45d2-95c3-7e5c1bdcce50",
   "metadata": {},
   "outputs": [
    {
     "name": "stdout",
     "output_type": "stream",
     "text": [
      "Shape of tensor: torch.Size([3, 4])\n",
      "Datatype of tensor: torch.float32\n",
      "Device tensor is stored on: cpu\n"
     ]
    }
   ],
   "source": [
    "tensor = torch.rand(3, 4)\n",
    "\n",
    "print(f\"Shape of tensor: {tensor.shape}\")\n",
    "print(f\"Datatype of tensor: {tensor.dtype}\")\n",
    "print(f\"Device tensor is stored on: {tensor.device}\")"
   ]
  },
  {
   "cell_type": "markdown",
   "id": "3acb4e40-4142-49cf-9f1a-39170763d013",
   "metadata": {},
   "source": [
    "## 0D-4D Tensor\n",
    "- N-dimensional array"
   ]
  },
  {
   "cell_type": "code",
   "execution_count": 27,
   "id": "2789b83a-bbe1-4f68-ad38-64b33b54f4d5",
   "metadata": {},
   "outputs": [
    {
     "name": "stdout",
     "output_type": "stream",
     "text": [
      "torch.Size([])\n",
      "torch.Size([3])\n",
      "torch.Size([2, 3])\n",
      "torch.Size([2, 2, 2])\n"
     ]
    }
   ],
   "source": [
    "# 0D Tensor (标量)\n",
    "scalar = torch.tensor(np.array(5))\n",
    "\n",
    "# 1D Tensor (向量)\n",
    "vector = torch.tensor(np.array([1, 2, 3]))\n",
    "\n",
    "# 2D Tensor (矩阵)\n",
    "matrix = torch.tensor(np.array([[1, 2, 3], [4, 5, 6]]))\n",
    "\n",
    "# 3D Tensor (立方体)\n",
    "tensor_3d = torch.tensor(np.array([[[1, 2], [3, 4]], [[5, 6], [7, 8]]]))\n",
    "\n",
    "# 打印形状\n",
    "print(scalar.shape)     # 输出：()\n",
    "print(vector.shape)     # 输出：(3,)\n",
    "print(matrix.shape)     # 输出：(2, 3)\n",
    "print(tensor_3d.shape)  # 输出：(2, 2, 2)"
   ]
  },
  {
   "cell_type": "markdown",
   "id": "e3037311-d5cf-44d7-9107-2be6bcce39dc",
   "metadata": {},
   "source": [
    "## Tensor Operations\n",
    "- Over 100 tensor operations"
   ]
  },
  {
   "cell_type": "code",
   "execution_count": 28,
   "id": "76be1885-c894-485d-a89c-2888c00a5125",
   "metadata": {},
   "outputs": [
    {
     "name": "stdout",
     "output_type": "stream",
     "text": [
      "Device tensor is stored on: cuda:0\n"
     ]
    }
   ],
   "source": [
    "# We move our tensor to the GPU if available\n",
    "if torch.cuda.is_available():\n",
    "    tensor = tensor.to(\"cuda\")\n",
    "    print(f\"Device tensor is stored on: {tensor.device}\")"
   ]
  },
  {
   "cell_type": "code",
   "execution_count": 30,
   "id": "5b71d463-a3a9-4322-a196-9d9cc9a82d32",
   "metadata": {},
   "outputs": [
    {
     "name": "stdout",
     "output_type": "stream",
     "text": [
      "tensor([[[1., 1., 1., 1.],\n",
      "         [0., 0., 0., 0.],\n",
      "         [1., 1., 1., 1.]],\n",
      "\n",
      "        [[1., 1., 1., 1.],\n",
      "         [0., 0., 0., 0.],\n",
      "         [1., 1., 1., 1.]]])\n"
     ]
    }
   ],
   "source": [
    "# Standard numpy-like indexing and slicing:\n",
    "tensor = torch.ones(2,3,4)\n",
    "tensor[:,1] = 0\n",
    "print(tensor)"
   ]
  },
  {
   "cell_type": "markdown",
   "id": "ee9c5782-24d4-4af3-b61d-150047be8d90",
   "metadata": {},
   "source": [
    "Indexing a 4D tensor in PyTorch follows the same principles as indexing lower-dimensional tensors but with an extra level of depth. A 4D tensor is usually shaped as (N, C, H, W) in deep learning, representing:\n",
    "- \t•\tN: Batch size\n",
    "- \t•\tC: Number of channels\n",
    "- \t•\tH: Height\n",
    "- \t•\tW: Width"
   ]
  },
  {
   "cell_type": "code",
   "execution_count": 35,
   "id": "6f3c7d6c-c416-40c6-94c9-5c93a4a1d2d5",
   "metadata": {},
   "outputs": [
    {
     "name": "stdout",
     "output_type": "stream",
     "text": [
      "tensor([[[1., 1., 1., 1.],\n",
      "         [1., 0., 1., 1.],\n",
      "         [1., 1., 1., 1.]],\n",
      "\n",
      "        [[1., 1., 1., 1.],\n",
      "         [1., 0., 1., 1.],\n",
      "         [1., 1., 1., 1.]]])\n"
     ]
    }
   ],
   "source": [
    "# Standard numpy-like indexing and slicing:\n",
    "tensor = torch.ones(2,3,4)\n",
    "tensor[0:2,1,1] = 0\n",
    "print(tensor)"
   ]
  },
  {
   "cell_type": "code",
   "execution_count": 36,
   "id": "d4f4a14e-b6fc-44dd-831c-e68d3080399d",
   "metadata": {},
   "outputs": [],
   "source": [
    "# Joining tensors You can use torch.cat to concatenate"
   ]
  },
  {
   "cell_type": "code",
   "execution_count": 37,
   "id": "abf915c8-2dc1-4df4-8e07-7dd704987760",
   "metadata": {},
   "outputs": [
    {
     "name": "stdout",
     "output_type": "stream",
     "text": [
      "tensor([[[1., 1., 1., 1.],\n",
      "         [1., 0., 1., 1.],\n",
      "         [1., 1., 1., 1.],\n",
      "         [1., 1., 1., 1.],\n",
      "         [1., 0., 1., 1.],\n",
      "         [1., 1., 1., 1.],\n",
      "         [1., 1., 1., 1.],\n",
      "         [1., 0., 1., 1.],\n",
      "         [1., 1., 1., 1.]],\n",
      "\n",
      "        [[1., 1., 1., 1.],\n",
      "         [1., 0., 1., 1.],\n",
      "         [1., 1., 1., 1.],\n",
      "         [1., 1., 1., 1.],\n",
      "         [1., 0., 1., 1.],\n",
      "         [1., 1., 1., 1.],\n",
      "         [1., 1., 1., 1.],\n",
      "         [1., 0., 1., 1.],\n",
      "         [1., 1., 1., 1.]]])\n"
     ]
    }
   ],
   "source": [
    "t1 = torch.cat([tensor,tensor,tensor], dim = 1)\n",
    "print(t1)"
   ]
  },
  {
   "cell_type": "code",
   "execution_count": 38,
   "id": "09ba3dd9-8389-44e7-81a5-ac9debe30e37",
   "metadata": {},
   "outputs": [],
   "source": [
    "# Multiplying tensors"
   ]
  },
  {
   "cell_type": "code",
   "execution_count": 46,
   "id": "20868e71-c641-492b-afa8-cecf102d86b7",
   "metadata": {},
   "outputs": [
    {
     "name": "stdout",
     "output_type": "stream",
     "text": [
      "tensor.mul(tensor) \n",
      " tensor([[1., 1., 1., 1.],\n",
      "        [1., 1., 1., 1.],\n",
      "        [1., 1., 1., 1.],\n",
      "        [1., 1., 1., 1.]]) \n",
      "\n",
      "tensor * tensor \n",
      " tensor([[1., 1., 1., 1.],\n",
      "        [1., 1., 1., 1.],\n",
      "        [1., 1., 1., 1.],\n",
      "        [1., 1., 1., 1.]])\n"
     ]
    }
   ],
   "source": [
    "# This computes the element-wise product\n",
    "print(f\"tensor.mul(tensor) \\n {tensor.mul(tensor)} \\n\")\n",
    "# Alternative syntax:\n",
    "print(f\"tensor * tensor \\n {tensor * tensor}\")"
   ]
  },
  {
   "cell_type": "code",
   "execution_count": 40,
   "id": "1d9336ed-6e70-49fb-8e61-89f2d48625fb",
   "metadata": {},
   "outputs": [],
   "source": [
    "# computes the matrix multiplication between two tensors"
   ]
  },
  {
   "cell_type": "code",
   "execution_count": 42,
   "id": "2f224f65-5b0d-4e27-b718-a1147844ca18",
   "metadata": {},
   "outputs": [],
   "source": [
    "tensor = torch.ones(4,4)"
   ]
  },
  {
   "cell_type": "code",
   "execution_count": 44,
   "id": "116323c8-b6ff-4e9f-934a-de381787c914",
   "metadata": {},
   "outputs": [
    {
     "data": {
      "text/plain": [
       "tensor([[1., 1., 1., 1.],\n",
       "        [1., 1., 1., 1.],\n",
       "        [1., 1., 1., 1.],\n",
       "        [1., 1., 1., 1.]])"
      ]
     },
     "execution_count": 44,
     "metadata": {},
     "output_type": "execute_result"
    }
   ],
   "source": [
    "tensor"
   ]
  },
  {
   "cell_type": "code",
   "execution_count": 43,
   "id": "6843eaac-ba7d-424d-9403-fecb311d98a6",
   "metadata": {},
   "outputs": [
    {
     "data": {
      "text/plain": [
       "tensor([[4., 4., 4., 4.],\n",
       "        [4., 4., 4., 4.],\n",
       "        [4., 4., 4., 4.],\n",
       "        [4., 4., 4., 4.]])"
      ]
     },
     "execution_count": 43,
     "metadata": {},
     "output_type": "execute_result"
    }
   ],
   "source": [
    "tensor.matmul(tensor.T)"
   ]
  },
  {
   "cell_type": "code",
   "execution_count": 45,
   "id": "e41169f4-769e-4994-8872-54161735abd5",
   "metadata": {},
   "outputs": [
    {
     "data": {
      "text/plain": [
       "tensor([[4., 4., 4., 4.],\n",
       "        [4., 4., 4., 4.],\n",
       "        [4., 4., 4., 4.],\n",
       "        [4., 4., 4., 4.]])"
      ]
     },
     "execution_count": 45,
     "metadata": {},
     "output_type": "execute_result"
    }
   ],
   "source": [
    "tensor @ tensor.T"
   ]
  },
  {
   "cell_type": "code",
   "execution_count": 47,
   "id": "fb7c7eca-6e97-4933-86fd-f997d5fe8307",
   "metadata": {},
   "outputs": [],
   "source": [
    "# In-place operations Operations"
   ]
  },
  {
   "cell_type": "code",
   "execution_count": 48,
   "id": "5c988aca-3ecd-4ee8-a9fe-d70257dfa35b",
   "metadata": {},
   "outputs": [
    {
     "name": "stdout",
     "output_type": "stream",
     "text": [
      "tensor([[1., 1., 1., 1.],\n",
      "        [1., 1., 1., 1.],\n",
      "        [1., 1., 1., 1.],\n",
      "        [1., 1., 1., 1.]]) \n",
      "\n",
      "tensor([[6., 6., 6., 6.],\n",
      "        [6., 6., 6., 6.],\n",
      "        [6., 6., 6., 6.],\n",
      "        [6., 6., 6., 6.]])\n"
     ]
    }
   ],
   "source": [
    "print(tensor, \"\\n\")\n",
    "tensor.add_(5)\n",
    "print(tensor)"
   ]
  },
  {
   "cell_type": "markdown",
   "id": "567a0629-6561-47f7-80f9-79f28b55a34e",
   "metadata": {},
   "source": [
    "## Tensors NumPy share"
   ]
  },
  {
   "cell_type": "code",
   "execution_count": 49,
   "id": "7b562bf2-c9bd-44e8-bc74-34f253d6e3e8",
   "metadata": {},
   "outputs": [],
   "source": [
    "# Tensors on the CPU and NumPy arrays can share their underlying memory locations, and changing one will change the other."
   ]
  },
  {
   "cell_type": "code",
   "execution_count": 50,
   "id": "4a4e0683-6688-43d0-8dc8-645b94623b3f",
   "metadata": {},
   "outputs": [
    {
     "name": "stdout",
     "output_type": "stream",
     "text": [
      "tensor([1., 1., 1., 1., 1.])\n",
      "[1. 1. 1. 1. 1.]\n"
     ]
    }
   ],
   "source": [
    "t = torch.ones(5)\n",
    "print(t)\n",
    "n = t.numpy()\n",
    "print(n)"
   ]
  },
  {
   "cell_type": "code",
   "execution_count": 51,
   "id": "e0b4865f-a61f-4d1f-9f31-019e0dcfe47e",
   "metadata": {},
   "outputs": [
    {
     "name": "stdout",
     "output_type": "stream",
     "text": [
      "tensor([3., 3., 3., 3., 3.])\n",
      "[3. 3. 3. 3. 3.]\n"
     ]
    }
   ],
   "source": [
    "t.add_(2)\n",
    "print(t)\n",
    "print(n)"
   ]
  },
  {
   "cell_type": "code",
   "execution_count": 52,
   "id": "9616c488-668e-4508-a0cb-ef243f4767bc",
   "metadata": {},
   "outputs": [],
   "source": [
    "# NumPy array to Tensor"
   ]
  },
  {
   "cell_type": "code",
   "execution_count": 53,
   "id": "cc025c82-b2f9-4649-af9c-ae98b7a9566e",
   "metadata": {},
   "outputs": [],
   "source": [
    "n = np.ones(5)\n",
    "t = torch.from_numpy(n)"
   ]
  },
  {
   "cell_type": "code",
   "execution_count": 54,
   "id": "9fb8afa5-f2ea-4cdf-b2f8-6149b92b12be",
   "metadata": {},
   "outputs": [
    {
     "name": "stdout",
     "output_type": "stream",
     "text": [
      "[2. 2. 2. 2. 2.]\n",
      "tensor([2., 2., 2., 2., 2.], dtype=torch.float64)\n"
     ]
    }
   ],
   "source": [
    "np.add(n, 1, out = n)\n",
    "print(n)\n",
    "print(t)"
   ]
  },
  {
   "cell_type": "markdown",
   "id": "38342499-aa6b-497a-b167-3bc97ca47c9e",
   "metadata": {},
   "source": [
    "# A Gentle Introduction to torch.autograd"
   ]
  },
  {
   "cell_type": "code",
   "execution_count": 55,
   "id": "3f944ea4-120b-412e-8e93-909184d0f4ad",
   "metadata": {},
   "outputs": [],
   "source": [
    "import torch"
   ]
  },
  {
   "cell_type": "code",
   "execution_count": 56,
   "id": "b24676de-68ed-422a-8b82-2c6b4027f1e2",
   "metadata": {},
   "outputs": [],
   "source": [
    "from torchvision.models import resnet18, ResNet18_Weights"
   ]
  },
  {
   "cell_type": "code",
   "execution_count": 58,
   "id": "1a4217ab-305d-4207-a954-ecd03736a91f",
   "metadata": {},
   "outputs": [
    {
     "data": {
      "text/plain": [
       "ResNet18_Weights.IMAGENET1K_V1"
      ]
     },
     "execution_count": 58,
     "metadata": {},
     "output_type": "execute_result"
    }
   ],
   "source": [
    "ResNet18_Weights.DEFAULT"
   ]
  },
  {
   "cell_type": "code",
   "execution_count": 57,
   "id": "23cf0398-bc35-412c-a785-fc869ffbf0ac",
   "metadata": {},
   "outputs": [],
   "source": [
    "model = resnet18(weights=ResNet18_Weights.DEFAULT)"
   ]
  },
  {
   "cell_type": "code",
   "execution_count": 68,
   "id": "11bc66aa-b71c-442b-ac27-735dbeb0f3d6",
   "metadata": {},
   "outputs": [],
   "source": [
    "# model"
   ]
  },
  {
   "cell_type": "code",
   "execution_count": 60,
   "id": "49efe651-770c-4139-86f4-5f3f1038070c",
   "metadata": {},
   "outputs": [],
   "source": [
    "data = torch.rand(1,3,64,64)"
   ]
  },
  {
   "cell_type": "code",
   "execution_count": 61,
   "id": "410d7cc5-a457-4260-9fd1-56b911913c88",
   "metadata": {},
   "outputs": [],
   "source": [
    "labels = torch.rand(1,1000)"
   ]
  },
  {
   "cell_type": "code",
   "execution_count": 62,
   "id": "bc534942-6a39-4053-b7e5-6b1df57fe9c0",
   "metadata": {},
   "outputs": [],
   "source": [
    "prediction = model(data)"
   ]
  },
  {
   "cell_type": "code",
   "execution_count": 63,
   "id": "08628a21-5f48-4f4c-8ff7-dc77a9d6755c",
   "metadata": {},
   "outputs": [],
   "source": [
    "loss = (prediction - labels).sum()"
   ]
  },
  {
   "cell_type": "code",
   "execution_count": 66,
   "id": "5f85c17e-488f-4d8d-8995-f5708ba51808",
   "metadata": {},
   "outputs": [
    {
     "data": {
      "text/plain": [
       "tensor(-508.7655, grad_fn=<SumBackward0>)"
      ]
     },
     "execution_count": 66,
     "metadata": {},
     "output_type": "execute_result"
    }
   ],
   "source": [
    "loss"
   ]
  },
  {
   "cell_type": "code",
   "execution_count": 64,
   "id": "754118c9-71f5-4bb7-932e-75be92a5162f",
   "metadata": {},
   "outputs": [],
   "source": [
    "loss.backward()"
   ]
  },
  {
   "cell_type": "markdown",
   "id": "ce92d59c-81dc-4619-ab99-55ce26c83b16",
   "metadata": {},
   "source": [
    "### QA：GPT：loss只是一个tensor数值，为什么可以执行一个函数操作backward？\n",
    "- 在 PyTorch 中，loss 虽然是一个标量张量（tensor），但它记录了整个计算图（computational graph），所以可以调用 backward() 来执行反向传播。\n",
    "- loss 不是普通的数值，而是计算图的终端节点。在 PyTorch 中，所有涉及可训练参数（requires_grad=True）的计算都会自动构建计算图（computational graph），而 loss 是这个计算图的最终结果。\n",
    "- loss 记录了计算过程。当你执行 前向传播（forward pass） 时，PyTorch 通过**动态计算图（Dynamic Computation Graph）**记录所有操作\n",
    "\n",
    "当你调用 loss.backward()，PyTorch 会：\n",
    "1. 从 loss 反向遍历计算图，计算每个张量的梯度（链式法则）。\n",
    "2. 将梯度存储到 tensor.grad 里，用于优化器更新参数。"
   ]
  },
  {
   "cell_type": "code",
   "execution_count": 72,
   "id": "a5635297-53ad-4eee-b83e-8d825a1b6fa1",
   "metadata": {},
   "outputs": [],
   "source": [
    "# 这个与loss function的定义可以分开，这就是个优化器初始化语句\n",
    "optim = torch.optim.SGD(model.parameters(), lr=1e-2, momentum=0.9)"
   ]
  },
  {
   "cell_type": "code",
   "execution_count": 73,
   "id": "99220d00-9590-493a-9008-5866e2c2ee8a",
   "metadata": {},
   "outputs": [],
   "source": [
    "# momentum 参数用于 加速梯度下降，减少震荡，并提高收敛速度。它引入了一个**惯性（Momentum）**机制，使优化器在更新参数时考虑之前梯度的方向，而不是仅仅依赖当前梯度。"
   ]
  },
  {
   "cell_type": "code",
   "execution_count": 74,
   "id": "7ee306ac-c5d9-4d8e-b01a-ca8df896e915",
   "metadata": {},
   "outputs": [],
   "source": [
    "optim.step()"
   ]
  },
  {
   "cell_type": "markdown",
   "id": "1faedf3b-0b6f-4bb2-81b7-56a5317a763d",
   "metadata": {},
   "source": [
    "## Autograd"
   ]
  },
  {
   "cell_type": "code",
   "execution_count": 109,
   "id": "fb1d3b45-dfe7-43a3-9a90-2686c50d33c5",
   "metadata": {},
   "outputs": [],
   "source": [
    "a = torch.tensor([2.,3.], requires_grad=True)\n",
    "b = torch.tensor([6.,4.], requires_grad=True)"
   ]
  },
  {
   "cell_type": "code",
   "execution_count": 110,
   "id": "51d8bd6b-325f-4ed5-9107-b080b2d24b89",
   "metadata": {},
   "outputs": [],
   "source": [
    "Q = 3*a**3 - b**2"
   ]
  },
  {
   "cell_type": "code",
   "execution_count": 95,
   "id": "cc4a7913-63f4-4586-bf99-07dfdc5f1716",
   "metadata": {},
   "outputs": [],
   "source": [
    "external_grad = torch.tensor([1.,1.])"
   ]
  },
  {
   "cell_type": "code",
   "execution_count": 111,
   "id": "b134138f-0257-4e84-8e61-088ec077ea79",
   "metadata": {},
   "outputs": [],
   "source": [
    "# external_grad = torch.tensor([0.,1.]) # don't change it"
   ]
  },
  {
   "cell_type": "code",
   "execution_count": 112,
   "id": "6e9d3763-5104-46de-8851-11f6a90de9fe",
   "metadata": {},
   "outputs": [],
   "source": [
    "Q.backward(gradient=external_grad)"
   ]
  },
  {
   "cell_type": "code",
   "execution_count": 98,
   "id": "8a9eac46-fc7c-4ad4-a5d4-d7f7c1e01f44",
   "metadata": {
    "scrolled": true
   },
   "outputs": [],
   "source": [
    "# 只有标量（scalar）输出才能自动计算梯度。\n",
    "Q.sum().backward()"
   ]
  },
  {
   "cell_type": "markdown",
   "id": "eb61b694-e8f3-4e03-a19e-bfd8ce2306fd",
   "metadata": {},
   "source": [
    "### QA: backward函数里的gradient参数有什么用\n",
    "- gradient 参数：当你想手动指定梯度时使用，比如在多输出的情况下，或者需要特殊的自定义梯度计算时。\n",
    "- 只有标量（scalar）输出才能自动计算梯度。backward不能对数组进行操作！"
   ]
  },
  {
   "cell_type": "code",
   "execution_count": 113,
   "id": "bf5f57f3-0e85-4ca9-bb19-daa1b3e84eb5",
   "metadata": {},
   "outputs": [
    {
     "data": {
      "text/plain": [
       "tensor([36., 81.], grad_fn=<MulBackward0>)"
      ]
     },
     "execution_count": 113,
     "metadata": {},
     "output_type": "execute_result"
    }
   ],
   "source": [
    "9*a**2"
   ]
  },
  {
   "cell_type": "code",
   "execution_count": 114,
   "id": "765099c5-6423-48d7-8a5f-a0ec06701a89",
   "metadata": {},
   "outputs": [
    {
     "data": {
      "text/plain": [
       "tensor([ 0., 81.])"
      ]
     },
     "execution_count": 114,
     "metadata": {},
     "output_type": "execute_result"
    }
   ],
   "source": [
    "a.grad"
   ]
  },
  {
   "cell_type": "code",
   "execution_count": 101,
   "id": "1ec22c12-abb3-4e78-b950-0a24155cdb3c",
   "metadata": {},
   "outputs": [
    {
     "data": {
      "text/plain": [
       "tensor([True, True])"
      ]
     },
     "execution_count": 101,
     "metadata": {},
     "output_type": "execute_result"
    }
   ],
   "source": [
    "9*a**2 == a.grad"
   ]
  },
  {
   "cell_type": "code",
   "execution_count": 102,
   "id": "c0875e5d-0601-49de-bfbc-13f64486ed9e",
   "metadata": {},
   "outputs": [
    {
     "data": {
      "text/plain": [
       "tensor([True, True])"
      ]
     },
     "execution_count": 102,
     "metadata": {},
     "output_type": "execute_result"
    }
   ],
   "source": [
    "-2*b == b.grad"
   ]
  },
  {
   "cell_type": "markdown",
   "id": "8ba2a691-87ef-46d0-83db-bf5adf9f7861",
   "metadata": {},
   "source": [
    "## DAG"
   ]
  },
  {
   "cell_type": "code",
   "execution_count": 83,
   "id": "c299e64e-4a8f-4242-a50f-1c001fad1fda",
   "metadata": {},
   "outputs": [],
   "source": [
    "x = torch.rand(5,5)\n",
    "y = torch.rand(5,5)\n",
    "z = torch.rand(5,5, requires_grad=True)"
   ]
  },
  {
   "cell_type": "code",
   "execution_count": 84,
   "id": "66d132e0-8244-4837-a2bc-9d85af65607e",
   "metadata": {},
   "outputs": [],
   "source": [
    "a = x + y"
   ]
  },
  {
   "cell_type": "code",
   "execution_count": 86,
   "id": "744a1cd7-97ce-46b6-9094-54228661bed3",
   "metadata": {},
   "outputs": [
    {
     "data": {
      "text/plain": [
       "False"
      ]
     },
     "execution_count": 86,
     "metadata": {},
     "output_type": "execute_result"
    }
   ],
   "source": [
    "a.requires_grad"
   ]
  },
  {
   "cell_type": "code",
   "execution_count": 87,
   "id": "a7f77fe7-a38c-4a58-a18f-dd7d21614227",
   "metadata": {},
   "outputs": [],
   "source": [
    "b = y + z"
   ]
  },
  {
   "cell_type": "code",
   "execution_count": 88,
   "id": "e26ffdbb-6b53-4394-917c-2e0dd9410dbe",
   "metadata": {},
   "outputs": [
    {
     "data": {
      "text/plain": [
       "True"
      ]
     },
     "execution_count": 88,
     "metadata": {},
     "output_type": "execute_result"
    }
   ],
   "source": [
    "b.requires_grad"
   ]
  },
  {
   "cell_type": "markdown",
   "id": "3ea2d34c-c3dd-456c-96f4-8f669ad42ac9",
   "metadata": {},
   "source": [
    "## freeze parameters"
   ]
  },
  {
   "cell_type": "code",
   "execution_count": 89,
   "id": "4640ef7b-7410-478e-bd51-bd53bff13dab",
   "metadata": {},
   "outputs": [],
   "source": [
    "for param in model.parameters():\n",
    "        param.requires_grad = False"
   ]
  },
  {
   "cell_type": "code",
   "execution_count": 90,
   "id": "11599de8-37e2-4334-b384-96436bc31bf0",
   "metadata": {},
   "outputs": [],
   "source": [
    "model.fc = nn.Linear(512, 10)"
   ]
  },
  {
   "cell_type": "code",
   "execution_count": 92,
   "id": "6411ad5d-cce0-4923-b046-def8493fa1db",
   "metadata": {},
   "outputs": [],
   "source": [
    "# Optimize only the classifier\n",
    "optimizer = torch.optim.SGD(model.parameters(), lr=1e-2, momentum=0.9)"
   ]
  },
  {
   "cell_type": "code",
   "execution_count": null,
   "id": "4cdde6f6-cbbf-4a62-ae6a-4ecd3ce75083",
   "metadata": {},
   "outputs": [],
   "source": []
  },
  {
   "cell_type": "markdown",
   "id": "ee845fea-db71-4424-9fc4-74a4dcef9b74",
   "metadata": {},
   "source": [
    "## one complete example"
   ]
  },
  {
   "cell_type": "code",
   "execution_count": 70,
   "id": "4ac4317d-4c9d-4332-a2f6-a648d5f6b71e",
   "metadata": {},
   "outputs": [],
   "source": [
    "import torch\n",
    "import torch.nn as nn\n",
    "import torch.optim as optim\n",
    "\n",
    "# 定义一个简单的模型\n",
    "model = nn.Linear(2, 1)\n",
    "\n",
    "# 选择优化器（这里使用SGD）\n",
    "optimizer = optim.SGD(model.parameters(), lr=0.01)  # 设定学习率为0.01\n",
    "\n",
    "# 定义损失函数\n",
    "loss_fn = nn.MSELoss()\n",
    "\n",
    "# 模拟输入和标签\n",
    "x = torch.randn(10, 2)\n",
    "y = torch.randn(10, 1)\n",
    "\n",
    "# 前向传播\n",
    "output = model(x)\n",
    "\n",
    "# 计算损失\n",
    "loss = loss_fn(output, y)\n",
    "\n",
    "# 反向传播计算梯度\n",
    "loss.backward()\n",
    "\n",
    "# 更新参数\n",
    "optimizer.step()  # 关键步骤：优化器根据梯度调整参数\n",
    "\n",
    "# 清空梯度，避免下一次计算时梯度累积\n",
    "optimizer.zero_grad()"
   ]
  },
  {
   "cell_type": "code",
   "execution_count": null,
   "id": "7e3c9157-b9fd-4296-97f4-09601e7eb02c",
   "metadata": {},
   "outputs": [],
   "source": []
  },
  {
   "cell_type": "markdown",
   "id": "4c70ec1c-5688-4d82-b560-bcbcdab9e79b",
   "metadata": {},
   "source": [
    "# Neural Networks"
   ]
  },
  {
   "cell_type": "markdown",
   "id": "9cd74259-9ec2-4967-a992-dedebaed8164",
   "metadata": {},
   "source": [
    "## Define the network"
   ]
  },
  {
   "cell_type": "code",
   "execution_count": 115,
   "id": "d54ec62a-07b5-4ec5-aa30-262b2ae0d629",
   "metadata": {},
   "outputs": [],
   "source": [
    "import torch\n",
    "import torch.nn as nn\n",
    "import torch.nn.functional as F"
   ]
  },
  {
   "cell_type": "code",
   "execution_count": 116,
   "id": "bbd3a6ba-7db2-4b19-876b-906e0f803e6c",
   "metadata": {},
   "outputs": [],
   "source": [
    "class Net(nn.Module):\n",
    "\n",
    "    def __init__(self):\n",
    "        super(Net, self).__init__()\n",
    "        self.conv1 = nn.Conv2d(1,6,5)\n",
    "        self.conv2 = nn.Conv2d(6,16,5)\n",
    "        self.fc1 = nn.Linear(16*5*5, 120)\n",
    "        self.fc2 = nn.Linear(120, 84)\n",
    "        self.fc3 = nn.Linear(84,10)\n",
    "\n",
    "    def forward(self, input):\n",
    "        c1 = F.relu(self.conv1(input))\n",
    "        s2 = F.max_pool2d(c1,(2,2))\n",
    "        c3 = F.relu(self.conv2(s2))\n",
    "        s4 = F.max_pool2d(c3,2)\n",
    "        s4 = torch.flatten(s4,1)\n",
    "        f5 = F.relu(self.fc1(s4))\n",
    "        f6 = F.relu(self.fc2(f5))\n",
    "        output = self.fc3(f6)\n",
    "        return output"
   ]
  },
  {
   "cell_type": "code",
   "execution_count": 117,
   "id": "477ba7fe-0d74-4c7f-8674-dab00e7a7a91",
   "metadata": {},
   "outputs": [],
   "source": [
    "net = Net()"
   ]
  },
  {
   "cell_type": "code",
   "execution_count": 118,
   "id": "fd17f151-cffb-4098-a60d-d127fe3fd7b3",
   "metadata": {},
   "outputs": [
    {
     "name": "stdout",
     "output_type": "stream",
     "text": [
      "Net(\n",
      "  (conv1): Conv2d(1, 6, kernel_size=(5, 5), stride=(1, 1))\n",
      "  (conv2): Conv2d(6, 16, kernel_size=(5, 5), stride=(1, 1))\n",
      "  (fc1): Linear(in_features=400, out_features=120, bias=True)\n",
      "  (fc2): Linear(in_features=120, out_features=84, bias=True)\n",
      "  (fc3): Linear(in_features=84, out_features=10, bias=True)\n",
      ")\n"
     ]
    }
   ],
   "source": [
    "print(net)"
   ]
  },
  {
   "cell_type": "code",
   "execution_count": 119,
   "id": "7cd021d2-755b-4930-bf0b-ecc5cf48039a",
   "metadata": {},
   "outputs": [],
   "source": [
    "params = list(net.parameters())"
   ]
  },
  {
   "cell_type": "code",
   "execution_count": 120,
   "id": "b4267ee7-2dd4-4763-8488-0c4f051aae63",
   "metadata": {},
   "outputs": [
    {
     "name": "stdout",
     "output_type": "stream",
     "text": [
      "10\n"
     ]
    }
   ],
   "source": [
    "print(len(params))"
   ]
  },
  {
   "cell_type": "code",
   "execution_count": 121,
   "id": "27cab905-a52c-4e95-9391-27bd5633f669",
   "metadata": {},
   "outputs": [
    {
     "name": "stdout",
     "output_type": "stream",
     "text": [
      "torch.Size([6, 1, 5, 5])\n"
     ]
    }
   ],
   "source": [
    "print(params[0].size())"
   ]
  },
  {
   "cell_type": "code",
   "execution_count": 122,
   "id": "ae3a2625-8fd9-402a-b032-aadcd291cee2",
   "metadata": {},
   "outputs": [],
   "source": [
    "input = torch.randn(1,1,32,32)"
   ]
  },
  {
   "cell_type": "code",
   "execution_count": 123,
   "id": "20853e23-487c-4a0f-b14b-0d638163e2e8",
   "metadata": {},
   "outputs": [
    {
     "name": "stdout",
     "output_type": "stream",
     "text": [
      "tensor([[-0.1940, -0.0999,  0.0769,  0.1313, -0.0712,  0.0089, -0.1309, -0.0023,\n",
      "          0.0435,  0.0419]], grad_fn=<AddmmBackward0>)\n"
     ]
    }
   ],
   "source": [
    "out = net(input)\n",
    "print(out)"
   ]
  },
  {
   "cell_type": "code",
   "execution_count": 124,
   "id": "4db76c83-b533-487a-895b-2ad8f78d1725",
   "metadata": {},
   "outputs": [],
   "source": [
    "net.zero_grad()"
   ]
  },
  {
   "cell_type": "code",
   "execution_count": 125,
   "id": "f2dfd99a-7f20-438b-97b9-e8ebe9e1e9cb",
   "metadata": {},
   "outputs": [],
   "source": [
    "out.backward(torch.randn(1,10))"
   ]
  },
  {
   "cell_type": "markdown",
   "id": "5c7527cb-7ada-468e-818d-3399652fd3d2",
   "metadata": {},
   "source": [
    "## Loss Function"
   ]
  },
  {
   "cell_type": "code",
   "execution_count": 126,
   "id": "ab72df2f-8720-4e40-9bf3-9f6ac6f72ddc",
   "metadata": {},
   "outputs": [],
   "source": [
    "output = net(input)\n",
    "target = torch.randn(10)\n",
    "target = target.view(1,-1)\n",
    "criterion = nn.MSELoss()"
   ]
  },
  {
   "cell_type": "code",
   "execution_count": 127,
   "id": "b62ba560-3448-4cb7-8b6f-3f792f5a1d03",
   "metadata": {},
   "outputs": [],
   "source": [
    "loss = criterion(output, target)"
   ]
  },
  {
   "cell_type": "code",
   "execution_count": 128,
   "id": "e2499491-34c7-4e31-9044-6bcf2aca57f6",
   "metadata": {},
   "outputs": [
    {
     "name": "stdout",
     "output_type": "stream",
     "text": [
      "tensor(0.8833, grad_fn=<MseLossBackward0>)\n"
     ]
    }
   ],
   "source": [
    "print(loss)"
   ]
  },
  {
   "cell_type": "markdown",
   "id": "8b5701fc-6c5e-4187-859b-7187b4f490d4",
   "metadata": {},
   "source": [
    "## Backprop"
   ]
  },
  {
   "cell_type": "code",
   "execution_count": 129,
   "id": "27908c5a-1c48-4e3d-9d06-64fbeb160475",
   "metadata": {},
   "outputs": [],
   "source": [
    "net.zero_grad()"
   ]
  },
  {
   "cell_type": "code",
   "execution_count": 130,
   "id": "c3208af5-abbb-410a-9423-e601469442c7",
   "metadata": {},
   "outputs": [
    {
     "name": "stdout",
     "output_type": "stream",
     "text": [
      "conv1.bias.grad before backward\n",
      "tensor([0., 0., 0., 0., 0., 0.])\n"
     ]
    }
   ],
   "source": [
    "print('conv1.bias.grad before backward')\n",
    "print(net.conv1.bias.grad)"
   ]
  },
  {
   "cell_type": "code",
   "execution_count": 131,
   "id": "eca1f327-e00d-43b2-8789-9e87f222a811",
   "metadata": {},
   "outputs": [],
   "source": [
    "loss.backward()"
   ]
  },
  {
   "cell_type": "code",
   "execution_count": 132,
   "id": "a6e3e8e0-8183-49f9-b760-8cb48061050f",
   "metadata": {},
   "outputs": [
    {
     "name": "stdout",
     "output_type": "stream",
     "text": [
      "conv1.bias.grad after backward\n",
      "tensor([ 0.0016,  0.0060, -0.0126,  0.0056,  0.0130,  0.0017])\n"
     ]
    }
   ],
   "source": [
    "print('conv1.bias.grad after backward')\n",
    "print(net.conv1.bias.grad)"
   ]
  },
  {
   "cell_type": "markdown",
   "id": "9e088d54-8e9e-4b8d-b9f7-92d6c7623333",
   "metadata": {},
   "source": [
    "## Update the weights"
   ]
  },
  {
   "cell_type": "code",
   "execution_count": 133,
   "id": "51c0efbe-287a-47f9-884a-2fa6b5316e8f",
   "metadata": {},
   "outputs": [],
   "source": [
    "import torch.optim as optim"
   ]
  },
  {
   "cell_type": "code",
   "execution_count": 134,
   "id": "282cfeff-48c7-400f-8599-bf44ab44302b",
   "metadata": {},
   "outputs": [],
   "source": [
    "optimizer = optim.SGD(net.parameters(), lr=0.01)"
   ]
  },
  {
   "cell_type": "code",
   "execution_count": 135,
   "id": "6a4e7d0e-a1bd-42a0-a21d-9aea86295f66",
   "metadata": {},
   "outputs": [],
   "source": [
    "optimizer.zero_grad()"
   ]
  },
  {
   "cell_type": "code",
   "execution_count": 136,
   "id": "2c963f63-137c-453c-a845-f5f92200bb8a",
   "metadata": {},
   "outputs": [],
   "source": [
    "output = net(input)"
   ]
  },
  {
   "cell_type": "code",
   "execution_count": 137,
   "id": "53cb8f7b-3d96-4bbf-bea3-c256495ca2ad",
   "metadata": {},
   "outputs": [],
   "source": [
    "loss = criterion(output, target)"
   ]
  },
  {
   "cell_type": "code",
   "execution_count": 138,
   "id": "2bad164b-8fe6-45fd-b9e9-7d0cc1acc3bc",
   "metadata": {},
   "outputs": [],
   "source": [
    "loss.backward()"
   ]
  },
  {
   "cell_type": "code",
   "execution_count": 140,
   "id": "31622e4f-5e40-4e9e-95dc-625094baabc4",
   "metadata": {},
   "outputs": [],
   "source": [
    "optimizer.step()"
   ]
  },
  {
   "cell_type": "code",
   "execution_count": null,
   "id": "1cc880ee-078b-47e1-bd4a-d10c1f495e9b",
   "metadata": {},
   "outputs": [],
   "source": []
  },
  {
   "cell_type": "code",
   "execution_count": 141,
   "id": "f3d281c3-bffe-4f4f-bf37-9a1f60cfcc31",
   "metadata": {},
   "outputs": [
    {
     "name": "stdout",
     "output_type": "stream",
     "text": [
      "conv1.bias.grad after backward\n",
      "tensor([ 0.0016,  0.0060, -0.0126,  0.0056,  0.0130,  0.0017])\n"
     ]
    }
   ],
   "source": [
    "print('conv1.bias.grad after backward')\n",
    "print(net.conv1.bias.grad)"
   ]
  },
  {
   "cell_type": "code",
   "execution_count": null,
   "id": "6356cb88-7f67-4840-ae54-d87b5ba5e783",
   "metadata": {},
   "outputs": [],
   "source": []
  },
  {
   "cell_type": "code",
   "execution_count": null,
   "id": "a8751a63-b8ae-4a33-a957-28eded1f5727",
   "metadata": {},
   "outputs": [],
   "source": []
  },
  {
   "cell_type": "code",
   "execution_count": null,
   "id": "c1e788bb-495e-4b84-afa9-cc1172c013fd",
   "metadata": {},
   "outputs": [],
   "source": []
  }
 ],
 "metadata": {
  "kernelspec": {
   "display_name": "mira-env",
   "language": "python",
   "name": "mira-env"
  },
  "language_info": {
   "codemirror_mode": {
    "name": "ipython",
    "version": 3
   },
   "file_extension": ".py",
   "mimetype": "text/x-python",
   "name": "python",
   "nbconvert_exporter": "python",
   "pygments_lexer": "ipython3",
   "version": "3.7.16"
  }
 },
 "nbformat": 4,
 "nbformat_minor": 5
}
